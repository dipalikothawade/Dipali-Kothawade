{
 "cells": [
  {
   "cell_type": "raw",
   "metadata": {},
   "source": [
    "# python assignment 2 s0lved"
   ]
  },
  {
   "cell_type": "raw",
   "metadata": {},
   "source": [
    "1. Create the below pattern using nested for loop in Python.\n",
    "\n",
    "  *\n",
    "  * *\n",
    "  * * *\n",
    "  * * * *\n",
    "  * * * * *\n",
    "  * * * *\n",
    "  * * *\n",
    "  * *\n",
    "  *\n"
   ]
  },
  {
   "cell_type": "code",
   "execution_count": 1,
   "metadata": {},
   "outputs": [
    {
     "name": "stdout",
     "output_type": "stream",
     "text": [
      "*\n",
      "**\n",
      "***\n",
      "****\n",
      "*****\n",
      "****\n",
      "***\n",
      "**\n",
      "*\n"
     ]
    }
   ],
   "source": [
    "n=5\n",
    "for i in range (1,n+1):\n",
    "    for j in range (1,i+1):\n",
    "        print (\"*\",end=\"\")\n",
    "    print ()\n",
    "for i in range (1,n):\n",
    "    for j in range (1,6-i):\n",
    "        print (\"*\",end=\"\")\n",
    "    print ()   \n",
    "    "
   ]
  },
  {
   "cell_type": "code",
   "execution_count": 5,
   "metadata": {},
   "outputs": [
    {
     "name": "stdout",
     "output_type": "stream",
     "text": [
      "Enter the word:1234\n",
      "4321\n"
     ]
    }
   ],
   "source": [
    "# 2. Write a Python program to reverse a word after accepting the input from the user.\n",
    "x = input('Enter the word:')\n",
    "a=x[::-1]\n",
    "print (a)\n"
   ]
  },
  {
   "cell_type": "code",
   "execution_count": null,
   "metadata": {},
   "outputs": [],
   "source": []
  },
  {
   "cell_type": "code",
   "execution_count": null,
   "metadata": {},
   "outputs": [],
   "source": []
  }
 ],
 "metadata": {
  "kernelspec": {
   "display_name": "Python 3",
   "language": "python",
   "name": "python3"
  },
  "language_info": {
   "codemirror_mode": {
    "name": "ipython",
    "version": 3
   },
   "file_extension": ".py",
   "mimetype": "text/x-python",
   "name": "python",
   "nbconvert_exporter": "python",
   "pygments_lexer": "ipython3",
   "version": "3.8.3"
  }
 },
 "nbformat": 4,
 "nbformat_minor": 4
}
